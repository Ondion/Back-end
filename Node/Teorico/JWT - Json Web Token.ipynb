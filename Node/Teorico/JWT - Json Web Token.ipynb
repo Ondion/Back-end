{
 "cells": [
  {
   "cell_type": "markdown",
   "metadata": {},
   "source": [
    "### JWT (JSON Web Token):  \n",
    "  \n",
    "É um token gerado a partir de dados \"pessoais\" que pode ser trafegado pela internet ao fazer requisições para APIs e afins. Toda a informação que colocamos no JWT é pública e qualquer pessoa com o token consegue ler essas informações. O mecanismo de segurança do JWT permite, no entanto, que apenas quem tem a senha consiga alterar as informações contidas em um token.  \n",
    "  \n",
    "O usuário envia informações para o servidor tais como login e senha, uma vez que o servidor valida esse login e senha, ele cria dois objetos: um contendo informações sobre o token que será gerado, que chamamos de header, e outro contendo os dados do usuário e as permissões que aquela pessoa tem, ao qual chamamos de payload.  \n",
    "  \n",
    "O servidor, então, converte esses dois objetos em JSON, junta-os em uma mesma string e utiliza um algoritmo chamado HMAC para \"criptografar\" essa string usando um \"segredo\" que só ele sabe, gerando o a assinatura – que nada mais é do que header + payload criptografados.  \n",
    "  \n",
    "Por fim, o servidor combina o header, o payload originais e a assinatura, criando assim o token.  \n",
    "  \n",
    "O token é enviado ao cliente, que o armazena para utilizá-lo nas próximas requisições.\n",
    "Chamamos de autenticação o processo pelo qual a pessoa usuária consegue, utilizando informações confidenciais como email e senha, efetuar login com sucesso em uma aplicação, tendo como retorno um JSON Web Token que possibilita acessar suas permissões de navegação.  \n",
    "  \n",
    "Na próxima requisição:  \n",
    "O navegador envia ao servidor os dados para, por exemplo, cadastrar um novo produto. Juntamente a esses dados, o navegador envia o token que recebeu ao realizar o login.\n",
    "Quando recebe os dados, a primeira coisa que o servidor faz é obter o header e o payload do token e criptografá-los, gerando, mais uma vez, a assinatura.\n",
    "O servidor, então, compara a nova assinatura com a assinatura que foi enviada pelo cliente. Se ambas forem iguais, quer dizer que o conteúdo do header e do payload não foram modificados desde o login.  \n",
    "  \n",
    "Agora que já sabe que o token é válido, o servidor continua processando a requisição e, por fim, entrega a resposta para o cliente.  \n",
    "  \n",
    "O JWT também é usado para autorização, quando precisamos fazer o processo de atestar as permissões de uma pessoa usuária que deseja acessar uma rota ou recurso protegido. Isso exige o envio do token, normalmente no header Authorization, a partir do qual são acessadas as informações necessárias para a verificação.  "
   ]
  },
  {
   "cell_type": "markdown",
   "metadata": {},
   "source": [
    "### Autenticação e Autorização  \n",
    "  \n",
    "É importante ressaltar que **autenticação** e **autorização** são coisas diferentes. **Autenticação** é usada para atestar que alguém é quem diz ser, verificando sua identidade, comumente feita por meio de informações confidenciais como email e senha. Já a **autorização** verifica as permissões de uma pessoa para acessar ou executar determinadas operações.  \n",
    "  \n",
    "**HMAC:**  \n",
    "  \n",
    "É um algoritmo para gerar um MAC (código de autenticação de mensagem) criptografado através de algum algoritmo de hash (algoritmos que codificam mensagens), como md5, sha1 ou sha256, a partir de uma chave secreta (uma senha) e de uma mensagem qualquer.  \n",
    "  \n",
    "A fórmula do HMAC é a seguinte:  \n",
    " - HMAC(K, m) = hash(K1 + hash(K2 + m))\n",
    " - onde:\n",
    " - K é a chave secreta;\n",
    " - m é a mensagem;\n",
    " - hash é a função de hash escolhida (md5, sha1 etc);\n",
    " - K1 e K2 são chaves secretas derivadas da chave original K;\n",
    " - '+'  é a operação de concatenação de strings.\n"
   ]
  },
  {
   "cell_type": "markdown",
   "metadata": {},
   "source": []
  }
 ],
 "metadata": {
  "language_info": {
   "name": "python"
  },
  "orig_nbformat": 4
 },
 "nbformat": 4,
 "nbformat_minor": 2
}
