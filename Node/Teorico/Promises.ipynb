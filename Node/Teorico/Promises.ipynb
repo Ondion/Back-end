{
 "cells": [
  {
   "cell_type": "markdown",
   "metadata": {},
   "source": [
    "## Promises  \n",
    "  \n",
    "As Promises foram introduzidas à especificação do JavaScript em 2015, como ferramenta de melhoramento da legibilidade do código. Quando usamos Promises, ainda estamos utilizando um tipo de callback, mas que possui uma API mais legível e intuitiva.  \n",
    "  \n",
    "Em callbacks, temos apenas uma função que recebe tanto o sucesso quanto o erro, já nas Promises temos uma forma de registrar erro e sucesso em funções separadas, ou seja, uma callback para cada.\n",
    "Além disso, outra grande vantagem do uso das Promises está em podermos registrar vários callbacks de sucesso para serem executados um após o outro, sempre recebendo o resultado do callback anterior.  \n",
    "\n",
    "Uma promise pode se tornar realizada com um valor ou rejeitada por um motivo (err). Caso um estado de erro ocorra, o método catch do Promise é chamado. Esse método, por sua vez, chama o método de tratamento associado ao estado rejected. Caso o then ocorra, ele chama o método resolved.  \n",
    "  \n",
    "Uma promise pode se tornar realizada com um valor ou rejeitada por um motivo (err). Caso um estado de erro ocorra, o método catch do Promise é chamado. Esse método, por sua vez, chama o método de tratamento associado ao estado rejected. Caso o then ocorra, ele chama o método resolved. Entenda melhor esse exemplo na figura abaixo:"
   ]
  },
  {
   "cell_type": "markdown",
   "metadata": {},
   "source": [
    "<img width=\"800px\" src=\"./images/promises.png\">"
   ]
  },
  {
   "cell_type": "markdown",
   "metadata": {},
   "source": []
  }
 ],
 "metadata": {
  "language_info": {
   "name": "python"
  },
  "orig_nbformat": 4
 },
 "nbformat": 4,
 "nbformat_minor": 2
}
