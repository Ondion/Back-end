{
 "cells": [
  {
   "cell_type": "markdown",
   "metadata": {},
   "source": [
    "## Sistema de módulos  \n",
    "  \n",
    "O Node.js  possuí uma grande quantidade de pacotes e bibliotecas disponíveis publicamente no npm divididas em módulos. Um módulo é um \"pedaço de código\" que pode ser organizado em um ou mais arquivos, e que possui escopo próprio, ou seja, suas variáveis, funções, classes e afins só estão disponíveis nos arquivos que fazem parte daquele módulo. Um módulo é uma funcionalidade, ou um conjunto de funcionalidades, que se encontram isoladas do restante do código.  \n",
    "  \n",
    "\n",
    "*_O Node.js possui três tipos de módulos: internos, locais e de terceiros._*\n",
    "\n",
    "**Módulos internos**\n",
    "Os módulos internos (ou core modules) são inclusos no Node.js e instalados junto com ele quando baixamos o runtime. Alguns exemplos de core modules são:  \n",
    "**fs**: fornece uma API para interagir com o sistema de arquivos de forma geral;  \n",
    "**url**: provê utilitários para ler e manipular URLs;  \n",
    "**querystring**: disponibiliza ferramentas para leitura e manipulação de parâmetros de URLs;  \n",
    "**util**: oferece ferramentas e funcionalidades úteis a pessoas programadoras.  \n",
    "**os**: oferece ferramentas e funcionalidades relacionadas ao sistema operacional.  \n",
    "  \n",
    "**Módulos locais**  \n",
    "Os módulos locais são aqueles definidos juntamente à nossa aplicação. Representam funcionalidades ou partes do nosso programa que foram separados em arquivos diferentes. Eles podem ser publicados no NPM para que outras pessoas possam baixá-los e utilizá-los.  \n",
    "  \n",
    "**Módulos de terceiros**  \n",
    "Os módulos de terceiros são aqueles criados por outras pessoas e disponibilizados para uso através do npm. Conforme mencionado, nós também podemos criar e publicar nossos próprios módulos, seja para utilizarmos em diversas aplicações diferentes, seja para permitir que outras pessoas os utilizem.  \n",
    "  \n",
    "\n",
    "*_Quando queremos utilizar o conteúdo de um módulo ou pacote de outro arquivo no Node.js, precisamos importar esse módulo/pacote para o contexto atual no qual estamos.\n",
    "Existem dois sistemas de módulos difundidos na comunidade JavaScript:_*  \n",
    "**Módulos ES6**  \n",
    "**Módulos CommonJS**  \n",
    "  \n",
    "O nome **ES6** vem de ECMAScript 6, que é a especificação seguida pelo JavaScript. Na especificação do ECMAScript 6, os módulos são importados utilizando a palavra-chave import, tendo como contrapartida a palavra-chave export para exportá-los.\n",
    "O Node.js não possui suporte a módulos ES6 por padrão, sendo necessário o uso de transpiladores para que esse recurso esteja disponível, como o Babel, ou supersets da linguagem, como o TypeScript.  \n",
    "**Transpiladores** são ferramentas que leem o código-fonte escrito em uma linguagem como o Node.js e produzem o código equivalente em outra linguagem.  \n",
    "**Supersets** são linguagens que utilizam um transpilador para adicionar novas funcionalidades ao JavaScript.  \n",
    "  \n",
    "**O CommonJS** é o sistema de módulos implementado pelo Node.js nativamente."
   ]
  },
  {
   "cell_type": "markdown",
   "metadata": {},
   "source": [
    "<hr/>"
   ]
  },
  {
   "cell_type": "code",
   "execution_count": 1,
   "metadata": {},
   "outputs": [
    {
     "data": {
      "text/plain": [
       "152"
      ]
     },
     "execution_count": 1,
     "metadata": {},
     "output_type": "execute_result"
    }
   ],
   "source": [
    "// Exportando módulos\n",
    "\n",
    "const teste = 152;\n",
    "\n",
    "module.export = teste;\n",
    "\n",
    "// Neste exemplo a variável teste existe apenas no contexto do módulo em que foi criada.\n",
    "// O module.export pode receber qualquer valor válido javascript."
   ]
  },
  {
   "cell_type": "code",
   "execution_count": 2,
   "metadata": {},
   "outputs": [
    {
     "data": {
      "text/plain": [
       "[Function: soma]"
      ]
     },
     "execution_count": 2,
     "metadata": {},
     "output_type": "execute_result"
    }
   ],
   "source": [
    "// Outro exemplo de export.\n",
    "\n",
    "const valor_1 = 5;\n",
    "const valor_2 = 5;\n",
    "\n",
    "const soma = () => valor_1 + valor_2;\n",
    "\n",
    "module.export = soma;"
   ]
  },
  {
   "cell_type": "code",
   "execution_count": 12,
   "metadata": {},
   "outputs": [],
   "source": [
    "// Fazendo uso dos export.\n",
    "\n",
    "const sum = require(\"./Módulos.ipynb\");"
   ]
  },
  {
   "cell_type": "code",
   "execution_count": 13,
   "metadata": {},
   "outputs": [
    {
     "data": {
      "text/plain": [
       "{ fuction_1: [Function: fuction_1], fuction_2: [Function: fuction_2] }"
      ]
     },
     "execution_count": 13,
     "metadata": {},
     "output_type": "execute_result"
    }
   ],
   "source": [
    "// Podemos exportar mais de um valor.\n",
    "\n",
    "const fuction_1 = () => null;\n",
    "const fuction_2 = () => null;\n",
    "\n",
    "module.export = {\n",
    "  fuction_1,\n",
    "  fuction_2,\n",
    "};"
   ]
  },
  {
   "cell_type": "code",
   "execution_count": null,
   "metadata": {},
   "outputs": [],
   "source": [
    "// Para fazer uso do export em objeto:\n",
    "\n",
    "const fuctions = require(\"./index.js\");\n",
    "\n",
    "fuctions.function_1() // para usar a primeira função do export\n",
    "fuctions.function_2() // para usar a segunda função do export\n",
    "\n",
    "// Ou desestruturando!\n",
    "\n",
    "const { fuction_1, fuction_2 } = require(\"./localDasFunções\");"
   ]
  },
  {
   "cell_type": "markdown",
   "metadata": {},
   "source": [
    "<br/>"
   ]
  },
  {
   "cell_type": "markdown",
   "metadata": {},
   "source": [
    "### Módulos locais  \n",
    "  \n",
    "*_Para importar um módulo local, passamos para o require o caminho do módulo, seguindo a mesma assinatura. Por exemplo, require('./meuModulo'). Note que a extensão (.js) não é necessária: por padrão, o Node já procura por arquivos terminados em .js ou .json e os considera como módulos. Além de importarmos um arquivo como módulo, podemos importar uma pasta. Isso é útil, pois muitas vezes um módulo está dividido em vários arquivos, mas desejamos importar todas as suas funcionalidades de uma vez só. Nesse caso, a pasta precisa conter um arquivo chamado index.js, que importa cada um dos arquivos do módulo e os exporta da forma mais conveniente._*  \n",
    "  \n",
    "**Por exemplo:**  "
   ]
  },
  {
   "cell_type": "markdown",
   "metadata": {},
   "source": []
  }
 ],
 "metadata": {
  "kernelspec": {
   "display_name": "JavaScript (Node.js)",
   "language": "javascript",
   "name": "javascript"
  },
  "language_info": {
   "file_extension": ".js",
   "mimetype": "application/javascript",
   "name": "javascript",
   "version": "16.14.2"
  },
  "orig_nbformat": 4
 },
 "nbformat": 4,
 "nbformat_minor": 2
}
