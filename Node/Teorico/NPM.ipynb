{
 "cells": [
  {
   "cell_type": "markdown",
   "metadata": {},
   "source": [
    "## NPM  \n",
    "  \n",
    "O NPM (sigla para Node Package Manager) é o repositório oficial para publicação de pacotes Node.js. É para ele que realizamos upload dos arquivos de nosso pacote quando queremos disponibilizá-lo para uso de outras pessoas ou em diversos projetos."
   ]
  },
  {
   "cell_type": "markdown",
   "metadata": {},
   "source": [
    "### npm init  \n",
    "  \n",
    "O comando npm init nos permite criar de forma rápida e simplificada um novo pacote Node.js na pasta onde é executado.  \n",
    "  \n",
    "Ao ser executado, o comando pede para quem executou algumas informações sobre o pacote. Caso desejemos utilizar as respostas padrão para todas essas perguntas, podemos usar o comando com a flag -y, ou seja, npm init -y.  \n",
    "  \n",
    "Para criar um novo pacote Node.js, o npm init simplesmente cria um arquivo chamado package.json com as respostas das perguntas realizadas e mais alguns campos de metadados. Para o Node.js, qualquer pasta contendo um arquivo package.json válido é um pacote.  "
   ]
  },
  {
   "cell_type": "markdown",
   "metadata": {},
   "source": [
    "### npm run  \n",
    "O comando run faz com que o npm execute um determinado script configurado no package.json. Scripts são \"atalhos\" que podemos definir para executar determinadas tarefas relacionadas ao pacote atual.  \n",
    "  \n",
    "Para criar um script, precisamos alterar o package.json e adicionar uma nova chave ao objeto scripts. O valor dessa chave deve ser o comando que desejamos que seja executado quando chamarmos aquele script."
   ]
  },
  {
   "cell_type": "code",
   "execution_count": null,
   "metadata": {},
   "outputs": [],
   "source": [
    "// Exemplo:\n",
    "{\n",
    "  \"scripts\": {\n",
    "    \"lint\": \"eslint .\"\n",
    "  }\n",
    "}\n",
    "\n",
    "// Para executar o script usamos: npm run lint"
   ]
  },
  {
   "cell_type": "markdown",
   "metadata": {},
   "source": [
    "### npm start  \n",
    "  \n",
    "O comando npm start age como um \"atalho\" para o comando npm run start, uma vez que sua função é executar o script start definido no package.json.  \n",
    "Como convenção, todo pacote que pode ser executado pelo terminal (como CLIs, APIs e afins) deve ter um script start com o comando necessário para executar a aplicação principal daquele pacote."
   ]
  },
  {
   "cell_type": "markdown",
   "metadata": {},
   "source": [
    "### npm install  \n",
    "  \n",
    "**npm install <nome do pacote>**: baixa o pacote do registro do NPM e o adiciona ao objeto dependencies do package.json;  \n",
    "  \n",
    "**npm install -D <nome do pacote>:** baixa o pacote do registro do NPM, porém o adiciona ao objeto devDependencies do package.json, indicando que o pacote em questão não é necessário para executar a aplicação. Ele é necessário para desenvolvimento, ou seja, para alterar o código daquela aplicação. Isso é muito útil ao colocar a aplicação no ar, pois pacotes marcados como devDependencies podem ser ignorados, já que vamos apenas executar a aplicação, e não modificá-la.  \n",
    "  \n",
    "**npm install:** baixa e instala todos os pacotes listados nos objetos de dependencies e devDependencies do package.json. Sempre deve ser executado ao clonar o repositório de um pacote para garantir que todas as dependências desse pacote estão instaladas.  \n",
    "  \n",
    "**npm init:** Cria um novo pacote Node.js na pasta onde é executado, o npm init cria um arquivo chamado package.json. Para o Node.js, qualquer pasta contendo um arquivo package.json válido é um pacote, dentro do package.json é onde podemos realizar algumas configurações importantes para o nosso pacote como nome, versão, dependências e scripts.  \n",
    "  \n",
    "**npm run:** Executa um determinado script configurado no package.json.  \n",
    "  \n"
   ]
  }
 ],
 "metadata": {
  "kernelspec": {
   "display_name": "JavaScript (Node.js)",
   "language": "javascript",
   "name": "javascript"
  },
  "language_info": {
   "name": "javascript"
  },
  "orig_nbformat": 4
 },
 "nbformat": 4,
 "nbformat_minor": 2
}
