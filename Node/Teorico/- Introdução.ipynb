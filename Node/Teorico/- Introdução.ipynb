{
 "cells": [
  {
   "cell_type": "markdown",
   "metadata": {},
   "source": [
    "## Node  \n",
    "  \n",
    "O Node.js surgiu do V8, que é a ferramenta do Google Chrome responsável por ler e executar as instruções que escrevemos em JavaScript, processo comumente chamado de interpretar o código. O software responsável por interpretar o código é chamado de interpretador, engine e, por vezes, de runtime. Por isso, é comum dizer que o Node.js é um runtime JavaScript.\n",
    "Apesar de ser baseado no V8, o Node.js possui algumas diferenças em relação ao interpretador que funciona nos navegadores. Dentre elas, as principais são a ausência de métodos para manipulação de páginas web e a presença de métodos que permitem acessar o sistema de arquivos e a rede mais diretamente."
   ]
  },
  {
   "cell_type": "markdown",
   "metadata": {},
   "source": [
    "### Performance  \n",
    "  \n",
    "Quando comparado a outras grandes tecnologias, o Node.js nos permite escrever softwares servidores de requisições HTTP de forma muito mais eficiente. Isso se dá pelo fato de que toda leitura e escrita que ele realiza, tanto no disco quanto na rede, é feita de forma não bloqueante.  \n",
    "  \n",
    "Por serem mais eficientes e otimizadas que outras tecnologias, as aplicações feitas em Node.js acabam por consumir menos recursos dos servidores que as executam, tornando o Node.js uma tecnologia, em geral, mais barata que suas concorrentes. Portanto, uma das principais vantagens do uso do Node.js é a performance.  \n",
    "  \n",
    "### Aplicações em tempo real  \n",
    "  \n",
    "A natureza não bloqueante do Node.js permite que alguns recursos sejam implementados na plataforma para facilitar o trabalho com operações em tempo real.\n",
    "Bibliotecas como o socket.io permitem que, com poucas linhas de código, aplicações em tempo real relativamente complexas (como chats com suporte a múltiplos usuários, conversas privadas etc.) sejam criadas por completo.  \n",
    "  \n",
    "### Node.js <> JavaScript  \n",
    "  \n",
    "Muitas das vantagens do Node.js vêm do fato de que a linguagem executada por ele é o JavaScript.\n",
    "O JavaScript tem se mostrado uma linguagem extremamente versátil, estando presente em diversos ambientes, como a Web, Desktop, Mobile, dispositivos IoT, a versatilidade e baixa curva de aprendizado do JavaScript conferem ao Node um poder incrível para resolver as mais diversas situações."
   ]
  }
 ],
 "metadata": {
  "kernelspec": {
   "display_name": "JavaScript (Node.js)",
   "language": "javascript",
   "name": "javascript"
  },
  "language_info": {
   "file_extension": ".js",
   "mimetype": "application/javascript",
   "name": "javascript",
   "version": "16.14.2"
  },
  "orig_nbformat": 4
 },
 "nbformat": 4,
 "nbformat_minor": 2
}
