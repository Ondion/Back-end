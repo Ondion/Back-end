{
 "cells": [
  {
   "cell_type": "markdown",
   "metadata": {},
   "source": [
    "<h1 style=\"text-align: center;\" >Indrodução</h1>\n",
    "<hr/>"
   ]
  },
  {
   "cell_type": "markdown",
   "metadata": {},
   "source": [
    "SQL é uma linguagem que roda em banco de dados relacionais\n",
    "\n",
    "MySQL é u m banco relacional\n",
    "\n",
    "\n",
    "Papel do banco de dados:\n",
    "  - Organizar os dados\n",
    "  - Armazenar\n",
    "  - Cuidar de falhas\n",
    "  Dentre outros....\n",
    "\n",
    "SGBD - Sistema de gerenciamento de banco de dados.\n",
    "é o sistema interno do banco de dados que gerencia seu conteúdo, é em cima do SGBD que o MySQL atua.\n",
    "\n",
    "\n",
    "Dados estruturados, como uma planilha de excel >>>>> SQL vs NoSQL <<<<< Dados não estruturados, como JSONs aleatórios onde se pode tudo."
   ]
  },
  {
   "cell_type": "markdown",
   "metadata": {},
   "source": [
    "SQL é a linguagem usada para criar, pesquisar,, extrair e também manipular dados dentro de um banco relacional.\n",
    "\n",
    "Para que isso seja possível, existem comandos como o SELECT, UPDATE, DELETE, INSERT e WHERE, entre outros.\n",
    "\n"
   ]
  },
  {
   "cell_type": "markdown",
   "metadata": {},
   "source": [
    "Tabelas em SQL\n",
    "\n",
    "Todas as pesquisas realizadas dentro de um banco de dados são feitas em tabelas.\n",
    "Tabelas possuem linhas e colunas\n",
    "Linhas representam um exemplo ou instância daquilo que se deseja representar, ao passo que colunas descrevem algum aspecto da entidade representada.\n"
   ]
  }
 ],
 "metadata": {
  "kernelspec": {
   "display_name": "JavaScript (Node.js)",
   "language": "javascript",
   "name": "javascript"
  },
  "language_info": {
   "name": "javascript"
  },
  "orig_nbformat": 4
 },
 "nbformat": 4,
 "nbformat_minor": 2
}
