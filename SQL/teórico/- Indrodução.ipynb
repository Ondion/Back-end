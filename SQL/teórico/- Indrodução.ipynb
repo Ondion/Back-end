{
 "cells": [
  {
   "cell_type": "markdown",
   "metadata": {},
   "source": [
    "<h1 style=\"text-align: center;\" >Indrodução</h1>\n",
    "<hr/>"
   ]
  },
  {
   "cell_type": "markdown",
   "metadata": {},
   "source": [
    "SQL é uma linguagem que roda em banco de dados relacionais\n",
    "\n",
    "MySQL é u m banco relacional\n",
    "\n",
    "\n",
    "Papel do banco de dados:\n",
    "  - Organizar os dados\n",
    "  - Armazenar\n",
    "  - Cuidar de falhas\n",
    "  Dentre outros....\n",
    "\n",
    "SGBD - Sistema de gerenciamento de banco de dados.\n",
    "é o sistema interno do banco de dados que gerencia seu conteúdo, é em cima do SGBD que o MySQL atua.\n",
    "\n",
    "\n",
    "Dados estruturados, como uma planilha de excel >>>>> SQL vs NoSQL <<<<< Dados não estruturados, como JSONs aleatórios onde se pode tudo."
   ]
  },
  {
   "cell_type": "markdown",
   "metadata": {},
   "source": [
    "SQL é a linguagem usada para criar, pesquisar,, extrair e também manipular dados dentro de um banco relacional.\n",
    "\n",
    "Para que isso seja possível, existem comandos como o SELECT, UPDATE, DELETE, INSERT e WHERE, entre outros.\n",
    "\n"
   ]
  },
  {
   "cell_type": "markdown",
   "metadata": {},
   "source": [
    "Tabelas em SQL\n",
    "\n",
    "Todas as pesquisas realizadas dentro de um banco de dados são feitas em tabelas.\n",
    "Tabelas possuem linhas e colunas\n",
    "Linhas representam um exemplo ou instância daquilo que se deseja representar, ao passo que colunas descrevem algum aspecto da entidade representada.\n"
   ]
  },
  {
   "cell_type": "markdown",
   "metadata": {},
   "source": [
    "CONSTRAINTS\n",
    "\n",
    "Uma das grandes vantagens de armazenar seus dados em um banco é de possibilitar a criação de regras e restrições (constrains) que diram exatamente como os dados podem ou não ser manipulados em suas tabelas.\n",
    "\n",
    "Como as constraints são aplicadas ás colunas das tabelas é possível assegurar que os dados inseridos nelas serão consistentes conforme as regras definidas.\n",
    "\n",
    "NOT NULL // Garante que o campo não contenha valores nulos ou seja, senão houver um valor padrão, será sempre necessário passar um valor.\n",
    "UNIQUE // Garante que o valor inserido na coluna da tabela é único, iso é, não pode haver outro valor igual para esta coluna registrado nesta tabela.\n",
    "PRIMARY KEY // Garante que a coluna em que essa regra é aplicada é o identificador único da tabela. ela é não nula e única por definição.\n",
    "FOREIGN KEY // A chave estrangeira faz referência a uma chave primária de outra tabela, permitindo um relacionamento entre tabelas distintas.\n",
    "DEFAULT // Garante que caso nenhum valor seja inserido , a regra colocara o valor padrão que for passado pra ela."
   ]
  },
  {
   "cell_type": "markdown",
   "metadata": {},
   "source": [
    " Entidade:\n",
    " Quando se fala de entidades de um banco de dados, estamos normalmente falando de uma tabela que representa algum conceito do mundo real, que você quer descrever e suas propriedades."
   ]
  }
 ],
 "metadata": {
  "kernelspec": {
   "display_name": "JavaScript (Node.js)",
   "language": "javascript",
   "name": "javascript"
  },
  "language_info": {
   "name": "javascript"
  },
  "orig_nbformat": 4
 },
 "nbformat": 4,
 "nbformat_minor": 2
}
