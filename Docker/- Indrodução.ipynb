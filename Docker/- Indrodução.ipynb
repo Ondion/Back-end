{
 "cells": [
  {
   "cell_type": "markdown",
   "metadata": {},
   "source": [
    "<h1 style=\"text-align: center;\" >Indrodução</h1>\n",
    "<hr/>"
   ]
  },
  {
   "cell_type": "markdown",
   "metadata": {},
   "source": [
    "*_O Docker é uma plataforma para desenvolver, enviar e executar aplicativos de diversas fontes. O Docker permite separar aplicativos da infraestrutura local para um ambiente controlado. Com o Docker, podemos gerenciar à infraestrutura da mesma forma que gerenciamos aplicações._*  \n",
    "  \n",
    "*_O Docker foi criado para resolver problemas de compatibilidade de versões de software ou sistemas operacionais no ambiente de desenvolvimento de software._*"
   ]
  },
  {
   "cell_type": "markdown",
   "metadata": {},
   "source": []
  }
 ],
 "metadata": {
  "kernelspec": {
   "display_name": "JavaScript (Node.js)",
   "language": "javascript",
   "name": "javascript"
  },
  "language_info": {
   "name": "javascript"
  },
  "orig_nbformat": 4
 },
 "nbformat": 4,
 "nbformat_minor": 2
}
