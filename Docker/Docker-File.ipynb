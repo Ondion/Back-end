{
 "cells": [
  {
   "cell_type": "markdown",
   "metadata": {},
   "source": [
    "<h1 style=\"text-align: center;\" >Docker File</h1>\n",
    "<hr/>"
   ]
  },
  {
   "cell_type": "markdown",
   "metadata": {},
   "source": [
    "*_O Dockerfile é um arquivo de configuração usado pelo Docker para criar uma imagem, tendo instruções, passo a passo, do que deve ser feito._*"
   ]
  },
  {
   "cell_type": "markdown",
   "metadata": {},
   "source": [
    "<br/>"
   ]
  },
  {
   "cell_type": "markdown",
   "metadata": {},
   "source": [
    "### Lista de comandos DockerFile:  \n",
    "  \n",
    "```FROM``` - Especifica uma versão de imagem para ser anexada.  \n",
    "*_Exemplo:_* ```FROM ubuntu:latest```  \n",
    "  \n",
    "```FROM xxx AS yyy``` - Especifica uma versão de imagem para ser anexada e passa um novo nome para essa versão.  \n",
    "*_Exemplo:_* ```FROM ubuntu:latest AS ubt```  \n",
    "  \n",
    "```WORKDIR``` - Especifica o local que será utilizado como base para os arquivos.  \n",
    "*_Exemplo:_* ```WORKDIR ./app/```  \n",
    "  \n",
    "```COPY``` - Copia diretórios e arquivos para dentro da imagem.  \n",
    "*_Exemplo:_* ```COPY package*.json ./```  \n",
    "  \n",
    "```RUN``` - Executa uma lista de comandos na sequencia passada.  \n",
    "*_Exemplo:_* ```RUN npm install```  \n",
    "  \n",
    "```EXPOSE``` - Especifica uma porta de acesso externo.  \n",
    "*_Exemplo:_* ```EXPOSE 3000```  \n",
    "  \n",
    "```ENTRYPOINT``` - Executa uma ação ao iniciar um container, esse comando não é sobrescrito caso se tenha utilizado o ```RUN``` antes.  \n",
    "*_Exemplo:_* ```ENTRYPOINT [\"echo\", \"iniciando o container\"]```  \n",
    "  \n",
    "```CMD``` - Comando único é executado quando o container é iniciado e em conjunto com o ```ENTRYPOINT```, para a passagem de parâmetros.  \n",
    "*_Exemplos:_*\n",
    "```\n",
    "ENTRYPOINT [\"touch\"]\n",
    "CMD [\"index.html\", \"style.css\", \"script.js\"]\n",
    "```  \n",
    "  \n",
    "```ENV``` - Declara uma varável para todo o ambiente do container.   \n",
    "*_Exemplo:_* ```ENV NAME='Nome Exemplo'```  \n",
    "  \n",
    "```LABEL``` - É uma variável para atribuir dados auxiliares aos objetos Docker, são registradas pelo padrão chave e valor.     \n",
    "*_Exemplo:_* ```LABEL containerBy=\"me@me.com```  \n",
    "  \n",
    "```USER``` - Define qual usuário irá iniciar o app do container, caso nenhum seja passado no momento da criação, por padrão, será usado o root."
   ]
  },
  {
   "cell_type": "markdown",
   "metadata": {},
   "source": [
    "<br/>"
   ]
  },
  {
   "cell_type": "markdown",
   "metadata": {},
   "source": [
    "### Executando um DockerFile  \n",
    "  \n",
    "*_Para consolidar instruções em uma imagem, precisamos rodar o comando: ```docker build .```, desta maneira a imagem será criada no diretório local, conforme passado._*  \n",
    "  \n",
    "*_É possível ser mais assertivo no momento da criação da imagem:_* ```docker image build -t <name:tag> <origem_docker_file>```, *_Aqui estamos especificando o nome da imagem, uma TAG e o local da origem dos arquivos._*  \n",
    "  \n",
    "*_Exemplo:_* ```docker image build -t minhaImagem:v01 ./local```  \n"
   ]
  },
  {
   "cell_type": "markdown",
   "metadata": {},
   "source": [
    "<br/>"
   ]
  },
  {
   "cell_type": "markdown",
   "metadata": {},
   "source": [
    "### Layers e Cache  \n",
    "\n",
    "**Cache** Mantém armazenados, camadas de uma imagens após seu processo de build, caso o Docker identifique que não houve mudança naquele Step, ele irá utilizar o cache do último build. Em outras palavras, uma vez que é realizado o build de uma imagem,o processo não repetirá nenhum desses passos, a menos que haja alguma alteração.  \n",
    "  \n",
    "*_Para tirarmos melhor proveito dessa estrutura, é recomendado dividirmos em partes cada etapa do processo e sempre deixando as etapas mais propensas a alterações para baixo do nosso \"pipeline\", evitando assim, layers desnecessárias._*  \n"
   ]
  }
 ],
 "metadata": {
  "kernelspec": {
   "display_name": "JavaScript (Node.js)",
   "language": "javascript",
   "name": "javascript"
  },
  "language_info": {
   "file_extension": ".js",
   "mimetype": "application/javascript",
   "name": "javascript",
   "version": "16.14.2"
  },
  "orig_nbformat": 4
 },
 "nbformat": 4,
 "nbformat_minor": 2
}
