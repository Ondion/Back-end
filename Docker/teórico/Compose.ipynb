{
 "cells": [
  {
   "cell_type": "markdown",
   "metadata": {},
   "source": [
    "<h1 style=\"text-align: center;\" >Compose</h1>\n",
    "<hr/>"
   ]
  },
  {
   "cell_type": "markdown",
   "metadata": {},
   "source": [
    "docker network create -d bridge <nome_rede> // Comando para criar uma rede docker.\n",
    "\n",
    "docker network ls // comando para listar redes criadas.\n",
    "\n",
    "docker network connect <nome_rede> <nome_container> // comando para conectar um container a uma rede particular.\n",
    "\n",
    "docker network inspect <nome_rede> // comando para verificar especifidades da rede e container conectados.\n",
    "\n",
    "docker run -it -d --name <nome_container> --network <nome_rede> <docker_image> // Comando para criar um container direto dentro de uma rede já existente.\n",
    "\n",
    "docker network disconnect <nome_rede> <nome_container> // comando para desconectar um container de uma rede.\n",
    "\n"
   ]
  }
 ],
 "metadata": {
  "kernelspec": {
   "display_name": "JavaScript (Node.js)",
   "language": "javascript",
   "name": "javascript"
  },
  "language_info": {
   "name": "javascript"
  },
  "orig_nbformat": 4
 },
 "nbformat": 4,
 "nbformat_minor": 2
}
