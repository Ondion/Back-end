{
 "cells": [
  {
   "cell_type": "markdown",
   "metadata": {},
   "source": [
    "<h1 style=\"text-align: center;\" >Compose</h1>\n",
    "<hr/>"
   ]
  },
  {
   "cell_type": "markdown",
   "metadata": {},
   "source": [
    "O Docker Compose entra como uma solução para organizar o funcionamento e a configuração de todas essas partes que compõem um sistema.\n",
    "Usando o Compose, definimos em um arquivo de configuração YAML todos os detalhes para executar nosso ambiente de desenvolvimento local, aproveitando as vantagens do Docker, sem nos preocupar em subir cada um dos contêineres que envolvem um app e seus respectivos parâmetros específicos no run.\n",
    "Somado a isso, temos o uso do Network e dos volumes. Estes, juntamente ao Compose, nos garantem a integração de vários serviços — APIs, front-ends, banco de dados, entre outros — permitindo que tudo funcione em qualquer ambiente com Docker. Garantem também que sua publicação seja feita de forma descomplicada e eficiente."
   ]
  },
  {
   "cell_type": "markdown",
   "metadata": {},
   "source": [
    "docker network create -d bridge <nome_rede> // Comando para criar uma rede docker.\n",
    "\n",
    "docker network ls // comando para listar redes criadas.\n",
    "\n",
    "docker network connect <nome_rede> <nome_container> // comando para conectar um container a uma rede particular.\n",
    "\n",
    "docker network inspect <nome_rede> // comando para verificar especifidades da rede e container conectados.\n",
    "\n",
    "docker run -it -d --name <nome_container> --network <nome_rede> <docker_image> // Comando para criar um container direto dentro de uma rede já existente.\n",
    "\n",
    "docker network disconnect <nome_rede> <nome_container> // comando para desconectar um container de uma rede.\n",
    "\n"
   ]
  }
 ],
 "metadata": {
  "kernelspec": {
   "display_name": "JavaScript (Node.js)",
   "language": "javascript",
   "name": "javascript"
  },
  "language_info": {
   "name": "javascript"
  },
  "orig_nbformat": 4
 },
 "nbformat": 4,
 "nbformat_minor": 2
}
