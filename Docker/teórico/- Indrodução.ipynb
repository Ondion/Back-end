{
 "cells": [
  {
   "cell_type": "markdown",
   "metadata": {},
   "source": [
    "<h1 style=\"text-align: center;\" >Indrodução</h1>\n",
    "<hr/>"
   ]
  },
  {
   "cell_type": "markdown",
   "metadata": {},
   "source": [
    "*_O Docker é uma plataforma para desenvolver, enviar e executar aplicativos de diversas fontes. O Docker permite separar aplicativos da infraestrutura local para um ambiente controlado. Com o Docker, podemos gerenciar à infraestrutura da mesma forma que gerenciamos aplicações._*  \n",
    "  \n",
    "*_O Docker foi criado para resolver problemas de compatibilidade de versões de software ou sistemas operacionais no ambiente de desenvolvimento de software._*"
   ]
  },
  {
   "cell_type": "markdown",
   "metadata": {},
   "source": [
    "*_O Docker se divide basicamente em ```container``` e ```imagem``` onde:_*  \n",
    "\n",
    "O ```container``` é um processo Docker que, internamente, possui tudo aquilo que é necessário para seu funcionamento: Sistema Operacional (Binários e Bibliotecas) e recursos necessários para sua aplicação;  \n",
    "  \n",
    "A ```imagem``` é uma espécie de \"fotografia\" de um container, nós resgatamos uma imagem, quando queremos iniciar um novo container a partir de uma estrutura já conhecida. É um arquivo imutável e a partir dele um ou mais containers podem ser gerados. Uma imagem do Docker é criada a partir de um Dockerfile;  \n",
    "\n"
   ]
  },
  {
   "cell_type": "markdown",
   "metadata": {},
   "source": [
    "Exemplo do fluxo Docker:  \n",
    "![Docker Flow](./Imagem/docker-flow-.png)"
   ]
  },
  {
   "cell_type": "markdown",
   "metadata": {},
   "source": [
    "<br/>"
   ]
  },
  {
   "cell_type": "markdown",
   "metadata": {},
   "source": [
    "### layers  \n",
    "  \n",
    "*_As imagens docker são dividas em camadas chamadas de layers, ao baixar uma imagem podemos perceber nesse processo, a existência de vários downloads e extrações acontecendo. Cada um desses downloads representa uma camada._*  \n",
    "  \n",
    "*_O Docker divide suas imagens em camadas para que elas possam ser reaproveitadas por outras imagens e não precisem ser instaladas em duplicidade. Toda imagem no Docker pode ter uma ou várias camadas e esse sistema é conhecido como Layered File System._*  \n",
    "  \n",
    "*_Cada camada é representada por um código único (uma hash), que corresponde a um conjunto de instruções que, em alguns casos, são comuns a outras imagens. Outro ponto importante sobre as layers é que aquelas que pertencem a imagem são somente para leitura, não é possível escrever nelas._*  \n",
    "  \n",
    "*_Porém, se acessarmos um container de modo interativo ou criarmos novos arquivos, estes serão persistentes mesmo se reiniciarmos o container. isso acontece porque todas as vezes que criamos um container, uma camada extra é adicionada à aquela imagem para que seja possível ler e escrever._*  \n",
    "  \n",
    "*_Assim sendo, ao criar um container sobre uma imagem, é possível interagir com essa camada extra do container e o restante das camadas permanece inalterada, apenas com permissão de leitura._*"
   ]
  },
  {
   "cell_type": "markdown",
   "metadata": {},
   "source": [
    "<br/>"
   ]
  },
  {
   "cell_type": "markdown",
   "metadata": {},
   "source": [
    "### Mapeamento de Portas  \n",
    "  \n",
    "*_Com o Docker podemos mapear as portas de acessos aos containers, para isso usamos os seguintes comandos:_*  \n",
    "  \n",
    "```docker container run -p <PORTA-SO-HOSPEDEIRO>:<PORTA-SO-CONVIDADO>``` - - Executa uma imagem e faz o mapeamento de portas conforme os valores passados.  \n",
    "*_Exemplo:_* ```docker run -d -p 54321:80 httpd:2.4```  \n",
    "  \n",
    "```docker container run -P``` - Executa uma imagem e faz o mapeamento de portas de forma aleatória. "
   ]
  },
  {
   "cell_type": "markdown",
   "metadata": {},
   "source": [
    "<br/>"
   ]
  }
 ],
 "metadata": {
  "kernelspec": {
   "display_name": "JavaScript (Node.js)",
   "language": "javascript",
   "name": "javascript"
  },
  "language_info": {
   "name": "javascript"
  },
  "orig_nbformat": 4
 },
 "nbformat": 4,
 "nbformat_minor": 2
}
