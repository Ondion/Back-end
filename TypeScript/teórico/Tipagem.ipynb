{
 "cells": [
  {
   "cell_type": "markdown",
   "metadata": {},
   "source": [
    "<h1 style=\"text-align: center;\" >Tipagem</h1>\n",
    "<hr/>"
   ]
  },
  {
   "cell_type": "markdown",
   "metadata": {},
   "source": [
    "*_Em TypeScript podemos identificar o tipo de dado em variáveis, parâmetros ou retornos de funções utilizando a tipagem. Tipagem, também conhecida como dicas de tipos, é a forma que utilizamos para descrever de qual tipo será o valor de um componente no código. Podemos categorizar a tipagem em uma linguagem de programação como:_*\n",
    "\n",
    "*_Tipagem Estática:\n",
    "Não permite que a pessoa desenvolvedora altere o tipo após ele ser declarado e, geralmente, a verificação de tipo é feita em tempo de compilação.\n",
    "A tipagem utilizada na linguagem TypeScript tem essa característica e vamos aprender sobre o seu compilador mais à frente._*\n",
    "\n",
    "*_Tipagem Dinâmica:\n",
    "Está ligada à habilidade da linguagem de programação em “escolher o tipo de dado” de acordo com o valor atribuído à variável em tempo de execução - ou seja, de forma dinâmica.\n",
    "Não há essa característica na tipagem do TypeScript._*\n",
    "\n",
    "*_Tipagem Forte:\n",
    "Linguagens fortemente tipadas não realizam conversões automaticamente. Ou seja, não é possível realizar operações entre valores de diferentes tipos, sendo necessário que a pessoa desenvolvedora faça a conversão para um dos tipos, caso seja possível.\n",
    "A tipagem utilizada na linguagem TypeScript também possui essa característica._*\n",
    "\n",
    "*_Tipagem Fraca:\n",
    "A tipagem fraca está ligada à característica da linguagem de realizar conversões automáticas entre tipos diferentes de dados - ou seja, operações entre valores de tipos diferentes podem acontecer sem a necessidade de uma conversão explícita de tipo. Porém, o resultado pode não ser o esperado e erros podem ocorrer durante a execução.\n",
    "Não há essa característica na tipagem do TypeScript._*\n",
    "\n",
    "*_Inferência de tipo:\n",
    "Algumas linguagens com tipagem estática podem fazer a inferência de tipo na declaração de variáveis, mas sem permitir que o tipo seja alterado após a declaração.\n",
    "O TypeScript é uma dessas linguagens. Podemos usar a inferência de tipo, mas o compilador apresenta um erro quando tentamos atribuir um valor de tipo diferente à variável. Isso porque ele apenas realiza a inferência do tipo inicial da variável. Depois disso, como a linguagem possui tipagem estática, não é possível alterar o tipo.\n",
    "Então, TypeScript é uma linguagem fortemente tipada e estaticamente tipada que possui inferência de tipo._*"
   ]
  },
  {
   "cell_type": "markdown",
   "metadata": {},
   "source": [
    "<br>"
   ]
  },
  {
   "cell_type": "markdown",
   "metadata": {},
   "source": [
    "**Tipos e Subtipos:**  \n",
    "\n",
    "any - Primitive Types:\n",
    " - boolean - Exemplo de declaração ```let flag: boolean = true;``` \n",
    " - number - Exemplo de declaração ```const pi: number = 3.14;``` outro exemplo, ```let x: number;``` Declara a variável mas não seta um valor, não é valido com const.\n",
    " - string - Exemplo de declaração ```let word: string = \"palavra\";```\n",
    " - enum - Exemplo de declaração ``` ```\n",
    " - void - Exemplo de declaração ```function empty(): void { console.log(\"função sem retorno\") }``` Void declara uma função que não tem retorno.\n",
    "\n",
    "any - Object types:\n",
    " - class\n",
    " - interface\n",
    " - array\n",
    " - literals\n",
    "\n",
    "any - Type:\n",
    " - parameters - Exemplo de declaração ``` ```\n",
    "\n",
    "subtypes:\n",
    " - null - Exemplo de declaração ```let nullValue = null; ```\n",
    " - undefined - Exemplo de declaração ```let undefinedValue = undefined; ```"
   ]
  },
  {
   "cell_type": "markdown",
   "metadata": {},
   "source": [
    "*_O Typescript também pode fazer as declarações das variáveis por inferência, isso acontece quando não é passado o tipo da variável no momento da declaração, conforme exemplo:  \n",
    "\n",
    "```\n",
    "\n",
    "let flag = true; - o compilador irá inferir o tipo boolean\n",
    "const numberPI = 3.1416; - o compilador irá inferir o tipo number\n",
    "let message = \"Hello World!\"; - o compilador irá inferir o tipo string\n",
    "\n",
    "```"
   ]
  },
  {
   "cell_type": "markdown",
   "metadata": {},
   "source": []
  }
 ],
 "metadata": {
  "kernelspec": {
   "display_name": "JavaScript (Node.js)",
   "language": "javascript",
   "name": "javascript"
  },
  "language_info": {
   "name": "javascript"
  },
  "orig_nbformat": 4
 },
 "nbformat": 4,
 "nbformat_minor": 2
}
