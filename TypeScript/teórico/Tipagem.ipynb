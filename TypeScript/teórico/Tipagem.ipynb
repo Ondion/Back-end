{
 "cells": [
  {
   "cell_type": "markdown",
   "metadata": {},
   "source": [
    "<h1 style=\"text-align: center;\" >Tipagem</h1>\n",
    "<hr/>"
   ]
  },
  {
   "cell_type": "markdown",
   "metadata": {},
   "source": [
    "*_Em TypeScript podemos identificar o tipo de dado em variáveis, parâmetros ou retornos de funções utilizando a tipagem. Tipagem, também conhecida como dicas de tipos, é a forma que utilizamos para descrever de qual tipo será o valor de um componente no código. Podemos categorizar a tipagem em uma linguagem de programação como:_*\n",
    "\n",
    "*_Tipagem Estática:\n",
    "Não permite que a pessoa desenvolvedora altere o tipo após ele ser declarado e, geralmente, a verificação de tipo é feita em tempo de compilação.\n",
    "A tipagem utilizada na linguagem TypeScript tem essa característica e vamos aprender sobre o seu compilador mais à frente._*\n",
    "\n",
    "*_Tipagem Dinâmica:\n",
    "Está ligada à habilidade da linguagem de programação em “escolher o tipo de dado” de acordo com o valor atribuído à variável em tempo de execução - ou seja, de forma dinâmica.\n",
    "Não há essa característica na tipagem do TypeScript._*\n",
    "\n",
    "*_Tipagem Forte:\n",
    "Linguagens fortemente tipadas não realizam conversões automaticamente. Ou seja, não é possível realizar operações entre valores de diferentes tipos, sendo necessário que a pessoa desenvolvedora faça a conversão para um dos tipos, caso seja possível.\n",
    "A tipagem utilizada na linguagem TypeScript também possui essa característica._*\n",
    "\n",
    "*_Tipagem Fraca:\n",
    "A tipagem fraca está ligada à característica da linguagem de realizar conversões automáticas entre tipos diferentes de dados - ou seja, operações entre valores de tipos diferentes podem acontecer sem a necessidade de uma conversão explícita de tipo. Porém, o resultado pode não ser o esperado e erros podem ocorrer durante a execução.\n",
    "Não há essa característica na tipagem do TypeScript._*\n",
    "\n",
    "*_Inferência de tipo:\n",
    "Algumas linguagens com tipagem estática podem fazer a inferência de tipo na declaração de variáveis, mas sem permitir que o tipo seja alterado após a declaração.\n",
    "O TypeScript é uma dessas linguagens. Podemos usar a inferência de tipo, mas o compilador apresenta um erro quando tentamos atribuir um valor de tipo diferente à variável. Isso porque ele apenas realiza a inferência do tipo inicial da variável. Depois disso, como a linguagem possui tipagem estática, não é possível alterar o tipo.\n",
    "Então, TypeScript é uma linguagem fortemente tipada e estaticamente tipada que possui inferência de tipo._*"
   ]
  },
  {
   "cell_type": "markdown",
   "metadata": {},
   "source": [
    "<br>"
   ]
  },
  {
   "cell_type": "markdown",
   "metadata": {},
   "source": [
    "**Tipos e Subtipos:**  \n",
    "\n",
    "any - Primitive Types:\n",
    " - boolean - Exemplo de declaração:   \n",
    " ```\n",
    "let yes: boolean = true;\n",
    "let no: boolean = false;\n",
    " ```  \n",
    "   \n",
    " - number - Exemplo de declaração:  \n",
    " ```\n",
    "const pi: number = 3.14;\n",
    "let x: number;\n",
    "let y: number = 0;\n",
    "let z: number = 123.456;\n",
    " ```  \n",
    "   \n",
    " - string - Exemplo de declaração:   \n",
    " ```\n",
    "let word: string = \"palavra\";\n",
    "let s: string;\n",
    "let empty: string = \"\";\n",
    "let abc: string = 'abc';\n",
    " ```  \n",
    "   \n",
    " - enum - Exemplo de declaração:  \n",
    " ```\n",
    " enum StudentStatus {\n",
    "     Active = 1,\n",
    "     Inactive = 2,\n",
    "     Paused = 3\n",
    "}\n",
    " ```   \n",
    "   \n",
    " - void - Exemplo de declaração:  \n",
    " ```\n",
    " function empty(): void { console.log(\"função sem retorno\") }\n",
    " ```   \n",
    "    \n",
    " - null e undefined:  \n",
    " ```\n",
    "let nullValue = null;\n",
    "let undefinedValue = undefined;\n",
    " ```  \n",
    "   \n",
    "   "
   ]
  },
  {
   "cell_type": "markdown",
   "metadata": {},
   "source": [
    "*_O Typescript também pode fazer as declarações das variáveis por inferência, isso acontece quando não é passado o tipo da variável no momento da declaração, conforme exemplo_*:  \n",
    "\n",
    "```\n",
    "\n",
    "let flag = true; - o compilador irá inferir o tipo boolean  \n",
    "  \n",
    "const numberPI = 3.1416; - o compilador irá inferir o tipo number  \n",
    "  \n",
    "let message = \"Hello World!\"; - o compilador irá inferir o tipo string  \n",
    "  \n",
    "```"
   ]
  },
  {
   "cell_type": "markdown",
   "metadata": {},
   "source": [
    "<hr>"
   ]
  },
  {
   "cell_type": "markdown",
   "metadata": {},
   "source": [
    "## Enum / Enumeração  \n",
    "  \n",
    "Uma enum é um nome simbólico para um conjunto de valores relacionados, o que significa que você pode utilizá-la para criar um conjunto de constantes para uso com variáveis e propriedades.  \n",
    "  \n",
    "Elas são muito úteis quando temos um conjunto de valores que determinado tipo de variável pode assumir.  \n",
    "  \n",
    "Exemplos:  "
   ]
  },
  {
   "cell_type": "code",
   "execution_count": null,
   "metadata": {},
   "outputs": [],
   "source": [
    "enum StudentStatus {\n",
    "  Active,\n",
    "  Inactive,\n",
    "  Paused\n",
    "}\n",
    "\n",
    "const vai: StudentStatus = StudentStatus.Active; // log: 0\n",
    "const volta: StudentStatus = StudentStatus[0]; // log: Active\n",
    "\n",
    "enum StudentStatus {\n",
    "  Active = 7,\n",
    "  Inactive,\n",
    "  Paused\n",
    "}\n",
    "\n",
    "const vai: StudentStatus = StudentStatus.Inactive; // log: 8\n",
    "const volta: StudentStatus = StudentStatus[9]; // log: Paused\n",
    "\n",
    "enum directionsGamePad {\n",
    "  UP = \"UP\",\n",
    "  DOWN = \"DOWN\",\n",
    "  LEFT = \"LEFT\",\n",
    "  RIGTH = \"RIGHT\",\n",
    "}"
   ]
  },
  {
   "cell_type": "markdown",
   "metadata": {},
   "source": [
    "<hr>"
   ]
  },
  {
   "cell_type": "markdown",
   "metadata": {},
   "source": [
    "## Arrays  \n",
    "Arrays são conjuntos de valores de mesmo tipo. Para declará-los, você pode adicionar o tipo esperado do array com a sintaxe let arrayName: type[] = [...];"
   ]
  },
  {
   "cell_type": "code",
   "execution_count": null,
   "metadata": {},
   "outputs": [],
   "source": [
    "let names: string[] = [\"Mary Joe\", \"Alan Joe\"];"
   ]
  },
  {
   "cell_type": "markdown",
   "metadata": {},
   "source": [
    "## Tuplas  \n",
    "Tuplas são um conjunto de valores cuja ordem, tipo e quantidade dos valores são fixas. Para declarar uma tupla, use a sintaxe let variableName: [type, type, ...]:\n"
   ]
  },
  {
   "cell_type": "code",
   "execution_count": null,
   "metadata": {},
   "outputs": [],
   "source": [
    "let fullName: [string, string] = [\"Jane\", \"Doe\"];\n",
    "let person: [string, number] = [\"Jane Doe\", 35];\n",
    "let car: [string, string, number] = [\"Ford\", \"F400\", 10];"
   ]
  },
  {
   "cell_type": "markdown",
   "metadata": {},
   "source": [
    "## Type Aliases  \n",
    "Type Aliases são utilizados para declarar a forma de um objeto nomeando o tipo, o que nos permite usar o mesmo tipo mais de uma vez e nos referir a ele através de um único nome. Um type alias é exatamente isso: um nome para qualquer tipo."
   ]
  },
  {
   "cell_type": "code",
   "execution_count": null,
   "metadata": {},
   "outputs": [],
   "source": [
    "type Point = {\n",
    "  x: number;\n",
    "  y: number;\n",
    "};\n",
    "\n",
    "\n",
    "function printCoord(pt: Point) {\n",
    "  console.log(\"O valor da cordenada x é: \" + pt.x);\n",
    "  console.log(\"O valor da coordenada y é: \" + pt.y);\n",
    "}\n",
    "\n",
    "printCoord({ x: 100, y: 100 });\n",
    "//saída:\n",
    "//O valor da cordenada x é: 100\n",
    "//O valor da cordenada y é: 100\n",
    "\n",
    "// -------------------------------------------------------- //\n",
    "type Sum = (x: number, y: number) => number;\n",
    "\n",
    "const xasp: Sum = (a, b) => a + b;"
   ]
  },
  {
   "cell_type": "markdown",
   "metadata": {},
   "source": [
    "## Type Unions  \n",
    "Type Unions (união de tipos) é uma forma de declarar que um objeto é um tipo formado a partir de dois ou mais outros tipos, representando valores que podem ser qualquer um desses tipos. Para isso, é preciso declarar os tipos esperados separados por barras."
   ]
  },
  {
   "cell_type": "code",
   "execution_count": null,
   "metadata": {},
   "outputs": [],
   "source": [
    "// A função abaixo pode receber tanto um número\n",
    "// quanto uma string.\n",
    "function retornarCPF(cpf: number | string){\n",
    "  console.log(\"Seu CPF é: \" + cpf);\n",
    "}"
   ]
  },
  {
   "cell_type": "markdown",
   "metadata": {},
   "source": [
    "## Classes  \n",
    "  \n",
    "As classes são uma maneira de definir a forma de um objeto. Podemos considerar uma classe como um projeto para a criação de objetos.  \n",
    "  \n",
    "Uma classe Person descreve os atributos de uma pessoa, por exemplo: nome, data de nascimento e cor dos olhos. Ela também descreve ações que uma pessoa pode executar, como falar, comer ou andar.  \n",
    "  \n"
   ]
  },
  {
   "cell_type": "code",
   "execution_count": null,
   "metadata": {},
   "outputs": [],
   "source": [
    "enum EyeColor {\n",
    "  Black = \"Pretos\",\n",
    "  Blue = \"Azuis\",\n",
    "  Green = \"Verdes\",\n",
    "  Brown = \"Castanhos\",\n",
    "}\n",
    "\n",
    "class Person {\n",
    "  name: string;\n",
    "  birthDate: Date;\n",
    "  eyeColor: EyeColor;\n",
    "\n",
    "  constructor(name: string, birthDate: Date, eyeColor: EyeColor) {\n",
    "      this.name  = name;\n",
    "      this.birthDate  = birthDate;\n",
    "      this.eyeColor  = eyeColor;\n",
    "  }\n",
    "\n",
    "  speak(): void {\n",
    "      console.log(`${this.name} está falando.`);\n",
    "  }\n",
    "\n",
    "  eat(): void {\n",
    "      console.log(`${this.name} está comendo.`)\n",
    "  }\n",
    "\n",
    "  walk(): void {\n",
    "      console.log(`${this.name} está andando.`)\n",
    "  }\n",
    "}"
   ]
  },
  {
   "cell_type": "markdown",
   "metadata": {},
   "source": [
    "<hr>"
   ]
  },
  {
   "cell_type": "markdown",
   "metadata": {},
   "source": [
    "## Interfaces\n",
    "Esta é mais uma estrutura que não existe no JavaScript. A Interface é utilizada para declarar a forma de um objeto, nomear e parametrizar os tipos do objeto e compor tipos de objetos nomeados existentes em novos."
   ]
  },
  {
   "cell_type": "code",
   "execution_count": null,
   "metadata": {},
   "outputs": [],
   "source": [
    "// declaração da Interface\n",
    "interface Employee {\n",
    "  firstName: string;\n",
    "  lastName: string;\n",
    "  fullName(): string;\n",
    "}\n",
    "\n",
    "// Inicialização da mesma Interface\n",
    "let employee: Employee = {\n",
    "  firstName : \"John\",\n",
    "  lastName: \"Doe\",\n",
    "  fullName(): string {\n",
    "      return this.firstName + \" \" + this.lastName; // usamos o \"this\" para acessar as propriedades da interface\n",
    "  }\n",
    "}\n"
   ]
  },
  {
   "cell_type": "markdown",
   "metadata": {},
   "source": [
    "Uma **interface** também pode estender de uma outra, o que permite que copiemos os membros de uma interface em outra, porém, para implementar uma interface que estende outra interface precisamos implementar todas as propriedades necessárias de todas as interfaces."
   ]
  },
  {
   "cell_type": "code",
   "execution_count": null,
   "metadata": {},
   "outputs": [],
   "source": [
    "interface Teacher extends Employee {\n",
    "    firstName: string;\n",
    "    lastName: string;\n",
    "    subject: string;\n",
    "    fullName(): string;\n",
    "    sayHello(): string;\n",
    "}\n",
    "\n",
    "let teacher: Teacher = {\n",
    "  firstName: \"John\",\n",
    "  lastName: \"Doe\",\n",
    "  subject: \"Matemática\",\n",
    "  fullName(): string {\n",
    "      return this.firstName + \" \" + this.lastName;\n",
    "  },\n",
    "  sayHello(): string {\n",
    "      return `Olá, eu sou ${this.fullName()} e leciono ${this.subject}`;\n",
    "  }\n",
    "}"
   ]
  },
  {
   "cell_type": "markdown",
   "metadata": {},
   "source": [
    "## Generics  \n",
    "  \n",
    "São modelos de código que você pode definir e reutilizar em toda a base. Eles fornecem uma forma de informar a funções, classes ou interfaces que tipo você deseja usar ao chamá-las, além de nos ajudar a reduzir o uso do tipo any, que não é uma boa prática.  \n",
    "  \n",
    "Os generics definem uma ou mais variáveis de tipo para identificar o tipo ou tipos que serão passados para o componente, colocados entre colchetes angulares (< >). T é um nome comumente usado para um generic, mas você pode SER nomeado de qualquer maneira.  \n",
    "  \n",
    "Após especificar a variável de tipo, você pode usá-la no lugar do tipo em parâmetros, no tipo de retorno ou em qualquer outro lugar na função em que você adicionaria uma anotação de tipo."
   ]
  },
  {
   "cell_type": "code",
   "execution_count": null,
   "metadata": {},
   "outputs": [],
   "source": [
    "function getArray<T>(items: T[]): T[] {\n",
    "  return new Array().concat(items);\n",
    "}\n",
    "\n",
    "let numberArray = getArray([5, 10, 15, 20]);\n",
    "let stringArray = getArray([\"Cats\", \"Dogs\", \"Birds\"]);\n",
    "\n",
    "numberArray.push(25);\n",
    "numberArray.push(\"isto não é um número\"); // Erro por não ser to tipo Number, atribuído por inferência \n",
    "\n",
    "stringArray.push(\"Rabbits\");\n",
    "stringArray.push(30); // Erro por não ser to tipo String, atribuído por inferência\n",
    "\n",
    "console.log(numberArray);\n",
    "// Saída:  [5, 10, 15, 20, 25, \"isto não é um número\"]\n",
    "\n",
    "console.log(stringArray);\n",
    "// Saída: [\"Cats\", \"Dogs\", \"Birds\", \"Rabbits\", 30]"
   ]
  },
  {
   "cell_type": "code",
   "execution_count": null,
   "metadata": {},
   "outputs": [],
   "source": [
    "function identity<T, U> (value: T, message: U) : T { // Atribuições de mais de um tipo\n",
    "  console.log(message);\n",
    "  return value\n",
    "}\n",
    "\n",
    "let returnNumber = identity<number, string>(100, \"Olá\");\n",
    "let returnString = identity<string, string>(\"100\", \"Mundo\");\n",
    "let returnBoolean = identity<boolean, string>(true, \"Olá, Mundo!\");"
   ]
  },
  {
   "cell_type": "code",
   "execution_count": null,
   "metadata": {},
   "outputs": [],
   "source": [
    "interface ProcessIdentity<T, U> { // Aqui temos o uso do Generics para Interface \n",
    "  (value: T, message: U): T;\n",
    "}\n",
    "\n",
    "function processIdentity<T, U> (value: T, message: U) : T {\n",
    "  console.log(message);\n",
    "  return value\n",
    "}\n",
    "\n",
    "let processor: ProcessIdentity<number, string> = processIdentity;\n",
    "let returnNumber = processor(100, \"Olá\");\n",
    "let returnString = processor(\"Olá\", 100); // Type check error: Argument of type \"string\" is not assignable to parameter of type \"number\"."
   ]
  },
  {
   "cell_type": "code",
   "execution_count": null,
   "metadata": {},
   "outputs": [],
   "source": [
    "class ProcessIdentity<T, U> { // Aqui temos o uso do Generics para Classe \n",
    "  _value: T;\n",
    "  _message: U;\n",
    "  constructor(value: T, message: U) {\n",
    "      this._value = value;\n",
    "      this._message = message;\n",
    "  }\n",
    "  getIdentity() : T {\n",
    "      console.log(this._message);\n",
    "      return this._value\n",
    "  }\n",
    "}\n",
    "\n",
    "let processor = new ProcessIdentity<number, string>(100, \"Olá\");\n",
    "processor.getIdentity();  // imprime \"Olá\" e retorna 100"
   ]
  },
  {
   "cell_type": "markdown",
   "metadata": {},
   "source": [
    "<hr>"
   ]
  },
  {
   "cell_type": "markdown",
   "metadata": {},
   "source": [
    "## Any e Unknown  \n",
    "  \n",
    "Usamos o **any** para tipar uma variável pode assumir qualquer tipo. \n",
    "\n",
    "já o **unknown** é utilizado para tipar uma variável que não sabemos qual valor irar assumir no momento de sua atribuição. posteriormente, no momento de execução será tipada por inferência. "
   ]
  },
  {
   "cell_type": "code",
   "execution_count": null,
   "metadata": {},
   "outputs": [],
   "source": [
    "let valor: any = true; // poderia ser qualquer tipo.\n",
    "\n",
    "let valor2: unknown; // essa variável irar aguardar o tempo de execução para que em algum momento seja atribuída por inferência, "
   ]
  },
  {
   "cell_type": "markdown",
   "metadata": {},
   "source": [
    "<hr>"
   ]
  },
  {
   "cell_type": "markdown",
   "metadata": {},
   "source": []
  }
 ],
 "metadata": {
  "kernelspec": {
   "display_name": "JavaScript (Node.js)",
   "language": "javascript",
   "name": "javascript"
  },
  "language_info": {
   "name": "javascript"
  },
  "orig_nbformat": 4
 },
 "nbformat": 4,
 "nbformat_minor": 2
}
