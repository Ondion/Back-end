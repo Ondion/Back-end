{
 "cells": [
  {
   "cell_type": "markdown",
   "metadata": {},
   "source": [
    "<h1 style=\"text-align: center;\" >Indrodução</h1>\n",
    "<hr/>"
   ]
  },
  {
   "cell_type": "markdown",
   "metadata": {},
   "source": [
    "*_**TypeScript** é uma linguagem de programação de código aberto, ela é uma superset do JavaScript, especificamente, o TypeScript é um superconjunto do ECMAScript 2015, mais comumente denominado ECMAScript 6 ou ES6. Sendo assim, todo o código JavaScript também é código TypeScript._*  \n",
    "  \n",
    "*_JavaScript é, hoje, a linguagem oficial da Web,no entanto, ela tem uma limitação: não foi concebida para a criação de aplicativos envolvendo milhares ou até mesmo milhões de linhas de código, pois ela não possui alguns dos recursos presentes em outras linguagens. A linguagem TypeScript foi desenvolvida justamente para resolver as limitações do JavaScript, sem prejudicar sua capacidade de executar código em todas as plataformas._*"
   ]
  },
  {
   "cell_type": "markdown",
   "metadata": {},
   "source": [
    "<br>"
   ]
  },
  {
   "cell_type": "markdown",
   "metadata": {},
   "source": [
    "**Instalação:**  \n",
    "Para instalação: ```npm install -g typescript```  \n",
    "Para a compilação: ```tsc arquivo.ts```  "
   ]
  },
  {
   "cell_type": "markdown",
   "metadata": {},
   "source": [
    "**.ts** é a extensão para arquivos typescript"
   ]
  },
  {
   "cell_type": "markdown",
   "metadata": {},
   "source": []
  }
 ],
 "metadata": {
  "kernelspec": {
   "display_name": "JavaScript (Node.js)",
   "language": "javascript",
   "name": "javascript"
  },
  "language_info": {
   "name": "javascript"
  },
  "orig_nbformat": 4
 },
 "nbformat": 4,
 "nbformat_minor": 2
}
