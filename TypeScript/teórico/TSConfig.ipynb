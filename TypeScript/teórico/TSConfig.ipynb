{
 "cells": [
  {
   "cell_type": "markdown",
   "metadata": {},
   "source": [
    "## TSConfig  "
   ]
  },
  {
   "cell_type": "markdown",
   "metadata": {},
   "source": [
    "Um projeto é TypeScript contém um arquivo de configuração **TSConfig.** O arquivo tsconfig.json possui as variáveis de configuração que definirão como o nosso código será compilado.  \n",
    "  \n",
    "Obs: A **melhor prática** para a utilização do Typescript em um projeto é **instalá-lo como uma devDependency** por meio do comando **npm i -D typescript** e utilizá-lo por meio do **npx.** Isso garante que todas as pessoas que forem compilar o projeto o façam utilizando a mesma versão do TypeScript, e não a versão instalada em suas respectivas máquinas.  \n",
    "  \n",
    "Para gerar o tsconfig.json utilizamos o tsc."
   ]
  },
  {
   "cell_type": "markdown",
   "metadata": {},
   "source": [
    "```tsc --init```  ou  ```npx tsc --init```   \n",
    "Para gerar um arquivo TSConfig;"
   ]
  },
  {
   "cell_type": "markdown",
   "metadata": {},
   "source": [
    "Almas configurações possíveis no aquivo TSConfig gerado!  \n",
    "  \n",
    " - module: especifica o sistema de módulo a ser utilizado no código JavaScript que será gerado pelo compilador como sendo o CommonJS;  \n",
    "\n",
    " - target: define a versão do JavaScript do código compilado como ES6;  \n",
    "\n",
    " - rootDir: define a localização raiz dos arquivos do projeto;  \n",
    "\n",
    " - outDir: define a pasta onde ficará nosso código compilado;  \n",
    "\n",
    " - esModuleInterop: habilitamos essa opção para ser possível compilar módulos ES6 para módulos CommonJS;  \n",
    "\n",
    " - strict: habilitamos essa opção para ativar a verificação estrita de tipo;  \n",
    "\n",
    " - include: essa chave vai depois do objeto CompilerOptions e com ela conseguimos incluir na compilação os arquivos ou diretórios mencionados;  \n",
    "\n",
    " - exclude: essa chave também vai depois do objeto CompilerOptions e com ela conseguimos excluir da compilação os arquivos mencionados.  "
   ]
  },
  {
   "cell_type": "markdown",
   "metadata": {},
   "source": []
  }
 ],
 "metadata": {
  "language_info": {
   "name": "python"
  },
  "orig_nbformat": 4
 },
 "nbformat": 4,
 "nbformat_minor": 2
}
